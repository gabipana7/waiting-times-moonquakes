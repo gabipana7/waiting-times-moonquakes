{
 "cells": [
  {
   "cell_type": "code",
   "execution_count": 1,
   "metadata": {},
   "outputs": [],
   "source": [
    "using CSV, DataFrames, Dates"
   ]
  },
  {
   "cell_type": "code",
   "execution_count": 2,
   "metadata": {},
   "outputs": [],
   "source": [
    "data_in_question = \"marsquakes\"\n",
    "variable = \"m24\"\n",
    "\n",
    "path = \"./data/\"\n",
    "filepath = \"./data/\" * data_in_question * \".csv\"\n",
    "df = CSV.read(filepath, DataFrame);\n"
   ]
  },
  {
   "cell_type": "code",
   "execution_count": 3,
   "metadata": {},
   "outputs": [
    {
     "data": {
      "text/html": [
       "<div><div style = \"float: left;\"><span>2715×2 DataFrame</span></div><div style = \"float: right;\"><span style = \"font-style: italic;\">2690 rows omitted</span></div><div style = \"clear: both;\"></div></div><div class = \"data-frame\" style = \"overflow-x: scroll;\"><table class = \"data-frame\" style = \"margin-bottom: 6px;\"><thead><tr class = \"header\"><th class = \"rowNumber\" style = \"font-weight: bold; text-align: right;\">Row</th><th style = \"text-align: left;\">datetime</th><th style = \"text-align: left;\">m24</th></tr><tr class = \"subheader headerLastRow\"><th class = \"rowNumber\" style = \"font-weight: bold; text-align: right;\"></th><th title = \"String31\" style = \"text-align: left;\">String31</th><th title = \"Union{Missing, Float64}\" style = \"text-align: left;\">Float64?</th></tr></thead><tbody><tr><td class = \"rowNumber\" style = \"font-weight: bold; text-align: right;\">1</td><td style = \"text-align: left;\">2019-01-12T05:09:39.000000Z</td><td style = \"font-style: italic; text-align: right;\">missing</td></tr><tr><td class = \"rowNumber\" style = \"font-weight: bold; text-align: right;\">2</td><td style = \"text-align: left;\">2019-01-13T05:53:45.000000Z</td><td style = \"font-style: italic; text-align: right;\">missing</td></tr><tr><td class = \"rowNumber\" style = \"font-weight: bold; text-align: right;\">3</td><td style = \"text-align: left;\">2019-03-14T20:59:21.050826Z</td><td style = \"font-style: italic; text-align: right;\">missing</td></tr><tr><td class = \"rowNumber\" style = \"font-weight: bold; text-align: right;\">4</td><td style = \"text-align: left;\">2019-03-26T06:22:19.900610Z</td><td style = \"font-style: italic; text-align: right;\">missing</td></tr><tr><td class = \"rowNumber\" style = \"font-weight: bold; text-align: right;\">5</td><td style = \"text-align: left;\">2019-04-07T09:31:52.000000Z</td><td style = \"text-align: right;\">2.4</td></tr><tr><td class = \"rowNumber\" style = \"font-weight: bold; text-align: right;\">6</td><td style = \"text-align: left;\">2019-04-11T13:27:57.778515Z</td><td style = \"font-style: italic; text-align: right;\">missing</td></tr><tr><td class = \"rowNumber\" style = \"font-weight: bold; text-align: right;\">7</td><td style = \"text-align: left;\">2019-04-12T18:10:36.207662Z</td><td style = \"font-style: italic; text-align: right;\">missing</td></tr><tr><td class = \"rowNumber\" style = \"font-weight: bold; text-align: right;\">8</td><td style = \"text-align: left;\">2019-05-01T03:03:36.000000Z</td><td style = \"text-align: right;\">1.8</td></tr><tr><td class = \"rowNumber\" style = \"font-weight: bold; text-align: right;\">9</td><td style = \"text-align: left;\">2019-05-02T07:19:49.000000Z</td><td style = \"font-style: italic; text-align: right;\">missing</td></tr><tr><td class = \"rowNumber\" style = \"font-weight: bold; text-align: right;\">10</td><td style = \"text-align: left;\">2019-05-04T07:03:46.211635Z</td><td style = \"font-style: italic; text-align: right;\">missing</td></tr><tr><td class = \"rowNumber\" style = \"font-weight: bold; text-align: right;\">11</td><td style = \"text-align: left;\">2019-05-16T11:02:26.140176Z</td><td style = \"font-style: italic; text-align: right;\">missing</td></tr><tr><td class = \"rowNumber\" style = \"font-weight: bold; text-align: right;\">12</td><td style = \"text-align: left;\">2019-05-17T16:43:26.072369Z</td><td style = \"font-style: italic; text-align: right;\">missing</td></tr><tr><td class = \"rowNumber\" style = \"font-weight: bold; text-align: right;\">13</td><td style = \"text-align: left;\">2019-05-17T19:27:04.012298Z</td><td style = \"font-style: italic; text-align: right;\">missing</td></tr><tr><td style = \"text-align: right;\">&vellip;</td><td style = \"text-align: right;\">&vellip;</td><td style = \"text-align: right;\">&vellip;</td></tr><tr><td class = \"rowNumber\" style = \"font-weight: bold; text-align: right;\">2704</td><td style = \"text-align: left;\">2022-03-30T20:03:12.767000Z</td><td style = \"font-style: italic; text-align: right;\">missing</td></tr><tr><td class = \"rowNumber\" style = \"font-weight: bold; text-align: right;\">2705</td><td style = \"text-align: left;\">2022-04-04T19:02:58.426000Z</td><td style = \"font-style: italic; text-align: right;\">missing</td></tr><tr><td class = \"rowNumber\" style = \"font-weight: bold; text-align: right;\">2706</td><td style = \"text-align: left;\">2022-04-04T23:06:52.616746Z</td><td style = \"text-align: right;\">2.0</td></tr><tr><td class = \"rowNumber\" style = \"font-weight: bold; text-align: right;\">2707</td><td style = \"text-align: left;\">2022-04-05T15:37:13.105278Z</td><td style = \"font-style: italic; text-align: right;\">missing</td></tr><tr><td class = \"rowNumber\" style = \"font-weight: bold; text-align: right;\">2708</td><td style = \"text-align: left;\">2022-04-09T22:05:52.416870Z</td><td style = \"font-style: italic; text-align: right;\">missing</td></tr><tr><td class = \"rowNumber\" style = \"font-weight: bold; text-align: right;\">2709</td><td style = \"text-align: left;\">2022-05-04T23:23:07.710516Z</td><td style = \"font-style: italic; text-align: right;\">missing</td></tr><tr><td class = \"rowNumber\" style = \"font-weight: bold; text-align: right;\">2710</td><td style = \"text-align: left;\">2022-05-06T09:01:56.031485Z</td><td style = \"text-align: right;\">2.9</td></tr><tr><td class = \"rowNumber\" style = \"font-weight: bold; text-align: right;\">2711</td><td style = \"text-align: left;\">2022-05-18T19:45:44.846160Z</td><td style = \"text-align: right;\">2.7</td></tr><tr><td class = \"rowNumber\" style = \"font-weight: bold; text-align: right;\">2712</td><td style = \"text-align: left;\">2022-05-20T23:08:41.115997Z</td><td style = \"text-align: right;\">2.6</td></tr><tr><td class = \"rowNumber\" style = \"font-weight: bold; text-align: right;\">2713</td><td style = \"text-align: left;\">2022-05-20T23:37:51.098952Z</td><td style = \"font-style: italic; text-align: right;\">missing</td></tr><tr><td class = \"rowNumber\" style = \"font-weight: bold; text-align: right;\">2714</td><td style = \"text-align: left;\">2022-08-31T20:23:46.685686Z</td><td style = \"text-align: right;\">3.3</td></tr><tr><td class = \"rowNumber\" style = \"font-weight: bold; text-align: right;\">2715</td><td style = \"text-align: left;\">2022-11-19T21:53:34.000000Z</td><td style = \"font-style: italic; text-align: right;\">missing</td></tr></tbody></table></div>"
      ],
      "text/latex": [
       "\\begin{tabular}{r|cc}\n",
       "\t& datetime & m24\\\\\n",
       "\t\\hline\n",
       "\t& String31 & Float64?\\\\\n",
       "\t\\hline\n",
       "\t1 & 2019-01-12T05:09:39.000000Z & \\emph{missing} \\\\\n",
       "\t2 & 2019-01-13T05:53:45.000000Z & \\emph{missing} \\\\\n",
       "\t3 & 2019-03-14T20:59:21.050826Z & \\emph{missing} \\\\\n",
       "\t4 & 2019-03-26T06:22:19.900610Z & \\emph{missing} \\\\\n",
       "\t5 & 2019-04-07T09:31:52.000000Z & 2.4 \\\\\n",
       "\t6 & 2019-04-11T13:27:57.778515Z & \\emph{missing} \\\\\n",
       "\t7 & 2019-04-12T18:10:36.207662Z & \\emph{missing} \\\\\n",
       "\t8 & 2019-05-01T03:03:36.000000Z & 1.8 \\\\\n",
       "\t9 & 2019-05-02T07:19:49.000000Z & \\emph{missing} \\\\\n",
       "\t10 & 2019-05-04T07:03:46.211635Z & \\emph{missing} \\\\\n",
       "\t11 & 2019-05-16T11:02:26.140176Z & \\emph{missing} \\\\\n",
       "\t12 & 2019-05-17T16:43:26.072369Z & \\emph{missing} \\\\\n",
       "\t13 & 2019-05-17T19:27:04.012298Z & \\emph{missing} \\\\\n",
       "\t14 & 2019-05-18T18:00:00.000000Z & 1.7 \\\\\n",
       "\t15 & 2019-05-21T18:53:52.234751Z & \\emph{missing} \\\\\n",
       "\t16 & 2019-05-23T02:19:09.852879Z & \\emph{missing} \\\\\n",
       "\t17 & 2019-05-24T21:24:43.774434Z & \\emph{missing} \\\\\n",
       "\t18 & 2019-06-01T23:59:53.331000Z & \\emph{missing} \\\\\n",
       "\t19 & 2019-06-02T02:00:00.000000Z & 1.5 \\\\\n",
       "\t20 & 2019-06-03T00:40:56.931000Z & \\emph{missing} \\\\\n",
       "\t21 & 2019-06-03T02:22:01.995079Z & \\emph{missing} \\\\\n",
       "\t22 & 2019-06-03T03:54:19.000000Z & 1.7 \\\\\n",
       "\t23 & 2019-06-04T01:16:26.531000Z & \\emph{missing} \\\\\n",
       "\t24 & 2019-06-05T00:23:47.581000Z & \\emph{missing} \\\\\n",
       "\t$\\dots$ & $\\dots$ & $\\dots$ \\\\\n",
       "\\end{tabular}\n"
      ],
      "text/plain": [
       "\u001b[1m2715×2 DataFrame\u001b[0m\n",
       "\u001b[1m  Row \u001b[0m│\u001b[1m datetime                    \u001b[0m\u001b[1m m24       \u001b[0m\n",
       "      │\u001b[90m String31                    \u001b[0m\u001b[90m Float64?  \u001b[0m\n",
       "──────┼────────────────────────────────────────\n",
       "    1 │ 2019-01-12T05:09:39.000000Z \u001b[90m missing   \u001b[0m\n",
       "    2 │ 2019-01-13T05:53:45.000000Z \u001b[90m missing   \u001b[0m\n",
       "    3 │ 2019-03-14T20:59:21.050826Z \u001b[90m missing   \u001b[0m\n",
       "    4 │ 2019-03-26T06:22:19.900610Z \u001b[90m missing   \u001b[0m\n",
       "    5 │ 2019-04-07T09:31:52.000000Z        2.4\n",
       "    6 │ 2019-04-11T13:27:57.778515Z \u001b[90m missing   \u001b[0m\n",
       "    7 │ 2019-04-12T18:10:36.207662Z \u001b[90m missing   \u001b[0m\n",
       "    8 │ 2019-05-01T03:03:36.000000Z        1.8\n",
       "  ⋮   │              ⋮                   ⋮\n",
       " 2709 │ 2022-05-04T23:23:07.710516Z \u001b[90m missing   \u001b[0m\n",
       " 2710 │ 2022-05-06T09:01:56.031485Z        2.9\n",
       " 2711 │ 2022-05-18T19:45:44.846160Z        2.7\n",
       " 2712 │ 2022-05-20T23:08:41.115997Z        2.6\n",
       " 2713 │ 2022-05-20T23:37:51.098952Z \u001b[90m missing   \u001b[0m\n",
       " 2714 │ 2022-08-31T20:23:46.685686Z        3.3\n",
       " 2715 │ 2022-11-19T21:53:34.000000Z \u001b[90m missing   \u001b[0m\n",
       "\u001b[36m                              2700 rows omitted\u001b[0m"
      ]
     },
     "metadata": {},
     "output_type": "display_data"
    }
   ],
   "source": [
    "if variable == \"m24\"\n",
    "    variable_no_keep = \"mw\"\n",
    "else\n",
    "    variable_no_keep = \"m24\"\n",
    "end\n",
    "select!(df, Not([variable_no_keep, \"Column1\"]))"
   ]
  },
  {
   "cell_type": "code",
   "execution_count": 4,
   "metadata": {},
   "outputs": [],
   "source": [
    "dropmissing!(df)\n",
    "transform!(df, [\"datetime\"]  => ByRow((A) -> chop(string(A), tail = 8)) => \"datetime\")\n",
    "\n",
    "dateformat = dateformat\"yyyy-mm-ddTHH:MM:SS\"\n",
    "df.datetime = DateTime.(df.datetime, dateformat)\n",
    "\n",
    "df;"
   ]
  },
  {
   "cell_type": "code",
   "execution_count": 5,
   "metadata": {},
   "outputs": [
    {
     "data": {
      "text/html": [
       "<div><div style = \"float: left;\"><span>2×7 DataFrame</span></div><div style = \"clear: both;\"></div></div><div class = \"data-frame\" style = \"overflow-x: scroll;\"><table class = \"data-frame\" style = \"margin-bottom: 6px;\"><thead><tr class = \"header\"><th class = \"rowNumber\" style = \"font-weight: bold; text-align: right;\">Row</th><th style = \"text-align: left;\">variable</th><th style = \"text-align: left;\">mean</th><th style = \"text-align: left;\">min</th><th style = \"text-align: left;\">median</th><th style = \"text-align: left;\">max</th><th style = \"text-align: left;\">nmissing</th><th style = \"text-align: left;\">eltype</th></tr><tr class = \"subheader headerLastRow\"><th class = \"rowNumber\" style = \"font-weight: bold; text-align: right;\"></th><th title = \"Symbol\" style = \"text-align: left;\">Symbol</th><th title = \"Union{Nothing, Float64}\" style = \"text-align: left;\">Union…</th><th title = \"Any\" style = \"text-align: left;\">Any</th><th title = \"Any\" style = \"text-align: left;\">Any</th><th title = \"Any\" style = \"text-align: left;\">Any</th><th title = \"Int64\" style = \"text-align: left;\">Int64</th><th title = \"DataType\" style = \"text-align: left;\">DataType</th></tr></thead><tbody><tr><td class = \"rowNumber\" style = \"font-weight: bold; text-align: right;\">1</td><td style = \"text-align: left;\">datetime</td><td style = \"font-style: italic; text-align: left;\"></td><td style = \"text-align: left;\">2019-04-07T09:31:52</td><td style = \"text-align: left;\">2021-06-13T23:36:58.500</td><td style = \"text-align: left;\">2022-08-31T20:23:46</td><td style = \"text-align: right;\">0</td><td style = \"text-align: left;\">DateTime</td></tr><tr><td class = \"rowNumber\" style = \"font-weight: bold; text-align: right;\">2</td><td style = \"text-align: left;\">m24</td><td style = \"text-align: left;\">1.84256</td><td style = \"text-align: left;\">1.0</td><td style = \"text-align: left;\">1.8</td><td style = \"text-align: left;\">4.1</td><td style = \"text-align: right;\">0</td><td style = \"text-align: left;\">Float64</td></tr></tbody></table></div>"
      ],
      "text/latex": [
       "\\begin{tabular}{r|cccccc}\n",
       "\t& variable & mean & min & median & max & \\\\\n",
       "\t\\hline\n",
       "\t& Symbol & Union… & Any & Any & Any & \\\\\n",
       "\t\\hline\n",
       "\t1 & datetime &  & 2019-04-07T09:31:52 & 2021-06-13T23:36:58.500 & 2022-08-31T20:23:46 & $\\dots$ \\\\\n",
       "\t2 & m24 & 1.84256 & 1.0 & 1.8 & 4.1 & $\\dots$ \\\\\n",
       "\\end{tabular}\n"
      ],
      "text/plain": [
       "\u001b[1m2×7 DataFrame\u001b[0m\n",
       "\u001b[1m Row \u001b[0m│\u001b[1m variable \u001b[0m\u001b[1m mean    \u001b[0m\u001b[1m min                 \u001b[0m\u001b[1m median                  \u001b[0m\u001b[1m max   \u001b[0m ⋯\n",
       "     │\u001b[90m Symbol   \u001b[0m\u001b[90m Union…  \u001b[0m\u001b[90m Any                 \u001b[0m\u001b[90m Any                     \u001b[0m\u001b[90m Any   \u001b[0m ⋯\n",
       "─────┼──────────────────────────────────────────────────────────────────────────\n",
       "   1 │ datetime \u001b[90m         \u001b[0m 2019-04-07T09:31:52  2021-06-13T23:36:58.500  2022-0 ⋯\n",
       "   2 │ m24       1.84256  1.0                  1.8                      4.1\n",
       "\u001b[36m                                                               3 columns omitted\u001b[0m"
      ]
     },
     "metadata": {},
     "output_type": "display_data"
    }
   ],
   "source": [
    "describe(df)"
   ]
  },
  {
   "cell_type": "code",
   "execution_count": 6,
   "metadata": {},
   "outputs": [
    {
     "data": {
      "text/html": [
       "<div><div style = \"float: left;\"><span>618×2 DataFrame</span></div><div style = \"float: right;\"><span style = \"font-style: italic;\">593 rows omitted</span></div><div style = \"clear: both;\"></div></div><div class = \"data-frame\" style = \"overflow-x: scroll;\"><table class = \"data-frame\" style = \"margin-bottom: 6px;\"><thead><tr class = \"header\"><th class = \"rowNumber\" style = \"font-weight: bold; text-align: right;\">Row</th><th style = \"text-align: left;\">datetime</th><th style = \"text-align: left;\">m24</th></tr><tr class = \"subheader headerLastRow\"><th class = \"rowNumber\" style = \"font-weight: bold; text-align: right;\"></th><th title = \"DateTime\" style = \"text-align: left;\">DateTime</th><th title = \"Float64\" style = \"text-align: left;\">Float64</th></tr></thead><tbody><tr><td class = \"rowNumber\" style = \"font-weight: bold; text-align: right;\">1</td><td style = \"text-align: left;\">2019-04-07T09:31:52</td><td style = \"text-align: right;\">2.4</td></tr><tr><td class = \"rowNumber\" style = \"font-weight: bold; text-align: right;\">2</td><td style = \"text-align: left;\">2019-05-01T03:03:36</td><td style = \"text-align: right;\">1.8</td></tr><tr><td class = \"rowNumber\" style = \"font-weight: bold; text-align: right;\">3</td><td style = \"text-align: left;\">2019-05-18T18:00:00</td><td style = \"text-align: right;\">1.7</td></tr><tr><td class = \"rowNumber\" style = \"font-weight: bold; text-align: right;\">4</td><td style = \"text-align: left;\">2019-06-02T02:00:00</td><td style = \"text-align: right;\">1.5</td></tr><tr><td class = \"rowNumber\" style = \"font-weight: bold; text-align: right;\">5</td><td style = \"text-align: left;\">2019-06-03T03:54:19</td><td style = \"text-align: right;\">1.7</td></tr><tr><td class = \"rowNumber\" style = \"font-weight: bold; text-align: right;\">6</td><td style = \"text-align: left;\">2019-06-05T03:25:46</td><td style = \"text-align: right;\">1.9</td></tr><tr><td class = \"rowNumber\" style = \"font-weight: bold; text-align: right;\">7</td><td style = \"text-align: left;\">2019-06-06T03:30:19</td><td style = \"text-align: right;\">1.7</td></tr><tr><td class = \"rowNumber\" style = \"font-weight: bold; text-align: right;\">8</td><td style = \"text-align: left;\">2019-06-13T07:02:05</td><td style = \"text-align: right;\">1.7</td></tr><tr><td class = \"rowNumber\" style = \"font-weight: bold; text-align: right;\">9</td><td style = \"text-align: left;\">2019-06-14T10:29:37</td><td style = \"text-align: right;\">1.8</td></tr><tr><td class = \"rowNumber\" style = \"font-weight: bold; text-align: right;\">10</td><td style = \"text-align: left;\">2019-06-20T14:56:41</td><td style = \"text-align: right;\">1.6</td></tr><tr><td class = \"rowNumber\" style = \"font-weight: bold; text-align: right;\">11</td><td style = \"text-align: left;\">2019-06-21T15:08:05</td><td style = \"text-align: right;\">1.7</td></tr><tr><td class = \"rowNumber\" style = \"font-weight: bold; text-align: right;\">12</td><td style = \"text-align: left;\">2019-06-22T14:00:03</td><td style = \"text-align: right;\">1.6</td></tr><tr><td class = \"rowNumber\" style = \"font-weight: bold; text-align: right;\">13</td><td style = \"text-align: left;\">2019-06-22T15:46:19</td><td style = \"text-align: right;\">1.8</td></tr><tr><td style = \"text-align: right;\">&vellip;</td><td style = \"text-align: right;\">&vellip;</td><td style = \"text-align: right;\">&vellip;</td></tr><tr><td class = \"rowNumber\" style = \"font-weight: bold; text-align: right;\">607</td><td style = \"text-align: left;\">2022-03-02T06:51:40</td><td style = \"text-align: right;\">1.5</td></tr><tr><td class = \"rowNumber\" style = \"font-weight: bold; text-align: right;\">608</td><td style = \"text-align: left;\">2022-03-06T02:29:13</td><td style = \"text-align: right;\">2.4</td></tr><tr><td class = \"rowNumber\" style = \"font-weight: bold; text-align: right;\">609</td><td style = \"text-align: left;\">2022-03-08T01:55:08</td><td style = \"text-align: right;\">1.8</td></tr><tr><td class = \"rowNumber\" style = \"font-weight: bold; text-align: right;\">610</td><td style = \"text-align: left;\">2022-03-09T05:56:49</td><td style = \"text-align: right;\">2.0</td></tr><tr><td class = \"rowNumber\" style = \"font-weight: bold; text-align: right;\">611</td><td style = \"text-align: left;\">2022-03-11T01:47:38</td><td style = \"text-align: right;\">1.9</td></tr><tr><td class = \"rowNumber\" style = \"font-weight: bold; text-align: right;\">612</td><td style = \"text-align: left;\">2022-03-14T05:15:37</td><td style = \"text-align: right;\">1.5</td></tr><tr><td class = \"rowNumber\" style = \"font-weight: bold; text-align: right;\">613</td><td style = \"text-align: left;\">2022-03-14T06:08:38</td><td style = \"text-align: right;\">2.0</td></tr><tr><td class = \"rowNumber\" style = \"font-weight: bold; text-align: right;\">614</td><td style = \"text-align: left;\">2022-04-04T23:06:52</td><td style = \"text-align: right;\">2.0</td></tr><tr><td class = \"rowNumber\" style = \"font-weight: bold; text-align: right;\">615</td><td style = \"text-align: left;\">2022-05-06T09:01:56</td><td style = \"text-align: right;\">2.9</td></tr><tr><td class = \"rowNumber\" style = \"font-weight: bold; text-align: right;\">616</td><td style = \"text-align: left;\">2022-05-18T19:45:44</td><td style = \"text-align: right;\">2.7</td></tr><tr><td class = \"rowNumber\" style = \"font-weight: bold; text-align: right;\">617</td><td style = \"text-align: left;\">2022-05-20T23:08:41</td><td style = \"text-align: right;\">2.6</td></tr><tr><td class = \"rowNumber\" style = \"font-weight: bold; text-align: right;\">618</td><td style = \"text-align: left;\">2022-08-31T20:23:46</td><td style = \"text-align: right;\">3.3</td></tr></tbody></table></div>"
      ],
      "text/latex": [
       "\\begin{tabular}{r|cc}\n",
       "\t& datetime & m24\\\\\n",
       "\t\\hline\n",
       "\t& DateTime & Float64\\\\\n",
       "\t\\hline\n",
       "\t1 & 2019-04-07T09:31:52 & 2.4 \\\\\n",
       "\t2 & 2019-05-01T03:03:36 & 1.8 \\\\\n",
       "\t3 & 2019-05-18T18:00:00 & 1.7 \\\\\n",
       "\t4 & 2019-06-02T02:00:00 & 1.5 \\\\\n",
       "\t5 & 2019-06-03T03:54:19 & 1.7 \\\\\n",
       "\t6 & 2019-06-05T03:25:46 & 1.9 \\\\\n",
       "\t7 & 2019-06-06T03:30:19 & 1.7 \\\\\n",
       "\t8 & 2019-06-13T07:02:05 & 1.7 \\\\\n",
       "\t9 & 2019-06-14T10:29:37 & 1.8 \\\\\n",
       "\t10 & 2019-06-20T14:56:41 & 1.6 \\\\\n",
       "\t11 & 2019-06-21T15:08:05 & 1.7 \\\\\n",
       "\t12 & 2019-06-22T14:00:03 & 1.6 \\\\\n",
       "\t13 & 2019-06-22T15:46:19 & 1.8 \\\\\n",
       "\t14 & 2019-06-23T17:11:40 & 1.7 \\\\\n",
       "\t15 & 2019-07-02T03:41:09 & 1.7 \\\\\n",
       "\t16 & 2019-07-02T07:28:49 & 1.6 \\\\\n",
       "\t17 & 2019-07-03T06:43:59 & 1.9 \\\\\n",
       "\t18 & 2019-07-05T23:10:18 & 1.7 \\\\\n",
       "\t19 & 2019-07-06T09:55:17 & 1.6 \\\\\n",
       "\t20 & 2019-07-06T23:51:24 & 1.6 \\\\\n",
       "\t21 & 2019-07-09T04:58:25 & 2.2 \\\\\n",
       "\t22 & 2019-07-10T00:15:28 & 1.8 \\\\\n",
       "\t23 & 2019-07-10T02:21:29 & 1.7 \\\\\n",
       "\t24 & 2019-07-10T03:19:32 & 1.6 \\\\\n",
       "\t$\\dots$ & $\\dots$ & $\\dots$ \\\\\n",
       "\\end{tabular}\n"
      ],
      "text/plain": [
       "\u001b[1m618×2 DataFrame\u001b[0m\n",
       "\u001b[1m Row \u001b[0m│\u001b[1m datetime            \u001b[0m\u001b[1m m24     \u001b[0m\n",
       "     │\u001b[90m DateTime            \u001b[0m\u001b[90m Float64 \u001b[0m\n",
       "─────┼──────────────────────────────\n",
       "   1 │ 2019-04-07T09:31:52      2.4\n",
       "   2 │ 2019-05-01T03:03:36      1.8\n",
       "   3 │ 2019-05-18T18:00:00      1.7\n",
       "   4 │ 2019-06-02T02:00:00      1.5\n",
       "   5 │ 2019-06-03T03:54:19      1.7\n",
       "   6 │ 2019-06-05T03:25:46      1.9\n",
       "   7 │ 2019-06-06T03:30:19      1.7\n",
       "   8 │ 2019-06-13T07:02:05      1.7\n",
       "  ⋮  │          ⋮              ⋮\n",
       " 612 │ 2022-03-14T05:15:37      1.5\n",
       " 613 │ 2022-03-14T06:08:38      2.0\n",
       " 614 │ 2022-04-04T23:06:52      2.0\n",
       " 615 │ 2022-05-06T09:01:56      2.9\n",
       " 616 │ 2022-05-18T19:45:44      2.7\n",
       " 617 │ 2022-05-20T23:08:41      2.6\n",
       " 618 │ 2022-08-31T20:23:46      3.3\n",
       "\u001b[36m                    603 rows omitted\u001b[0m"
      ]
     },
     "metadata": {},
     "output_type": "display_data"
    }
   ],
   "source": [
    "df"
   ]
  },
  {
   "cell_type": "code",
   "execution_count": 29,
   "metadata": {},
   "outputs": [
    {
     "data": {
      "text/plain": [
       "\"./data/marsquakes_m24.csv\""
      ]
     },
     "metadata": {},
     "output_type": "display_data"
    }
   ],
   "source": [
    "CSV.write(\"./data/marsquakes_$(variable).csv\", df, delim=\",\")"
   ]
  },
  {
   "cell_type": "code",
   "execution_count": null,
   "metadata": {},
   "outputs": [],
   "source": []
  }
 ],
 "metadata": {
  "kernelspec": {
   "display_name": "Julia 1.9.4",
   "language": "julia",
   "name": "julia-1.9"
  },
  "language_info": {
   "file_extension": ".jl",
   "mimetype": "application/julia",
   "name": "julia",
   "version": "1.9.4"
  }
 },
 "nbformat": 4,
 "nbformat_minor": 2
}
