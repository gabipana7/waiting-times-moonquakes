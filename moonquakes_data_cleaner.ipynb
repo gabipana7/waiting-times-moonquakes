{
 "cells": [
  {
   "cell_type": "code",
   "execution_count": 1,
   "metadata": {},
   "outputs": [],
   "source": [
    "using CSV, DataFrames, Dates"
   ]
  },
  {
   "cell_type": "code",
   "execution_count": 2,
   "metadata": {},
   "outputs": [
    {
     "data": {
      "text/html": [
       "<div><div style = \"float: left;\"><span>6551×5 DataFrame</span></div><div style = \"float: right;\"><span style = \"font-style: italic;\">6526 rows omitted</span></div><div style = \"clear: both;\"></div></div><div class = \"data-frame\" style = \"overflow-x: scroll;\"><table class = \"data-frame\" style = \"margin-bottom: 6px;\"><thead><tr class = \"header\"><th class = \"rowNumber\" style = \"font-weight: bold; text-align: right;\">Row</th><th style = \"text-align: left;\">Column1</th><th style = \"text-align: left;\">eventType</th><th style = \"text-align: left;\">eventDescription</th><th style = \"text-align: left;\">amplitude</th><th style = \"text-align: left;\">datetime</th></tr><tr class = \"subheader headerLastRow\"><th class = \"rowNumber\" style = \"font-weight: bold; text-align: right;\"></th><th title = \"Int64\" style = \"text-align: left;\">Int64</th><th title = \"String15\" style = \"text-align: left;\">String15</th><th title = \"String31\" style = \"text-align: left;\">String31</th><th title = \"Float64\" style = \"text-align: left;\">Float64</th><th title = \"DateTime\" style = \"text-align: left;\">DateTime</th></tr></thead><tbody><tr><td class = \"rowNumber\" style = \"font-weight: bold; text-align: right;\">1</td><td style = \"text-align: right;\">1</td><td style = \"text-align: left;\">earthquake</td><td style = \"text-align: left;\">deep moonquake</td><td style = \"text-align: right;\">3.7</td><td style = \"text-align: left;\">1969-07-28T13:49:00</td></tr><tr><td class = \"rowNumber\" style = \"font-weight: bold; text-align: right;\">2</td><td style = \"text-align: right;\">3</td><td style = \"text-align: left;\">earthquake</td><td style = \"text-align: left;\">deep moonquake</td><td style = \"text-align: right;\">4.0</td><td style = \"text-align: left;\">1969-08-25T00:30:00</td></tr><tr><td class = \"rowNumber\" style = \"font-weight: bold; text-align: right;\">3</td><td style = \"text-align: right;\">4</td><td style = \"text-align: left;\">earthquake</td><td style = \"text-align: left;\">deep moonquake</td><td style = \"text-align: right;\">1.0</td><td style = \"text-align: left;\">1969-11-29T09:10:00</td></tr><tr><td class = \"rowNumber\" style = \"font-weight: bold; text-align: right;\">4</td><td style = \"text-align: right;\">5</td><td style = \"text-align: left;\">earthquake</td><td style = \"text-align: left;\">deep moonquake</td><td style = \"text-align: right;\">1.5</td><td style = \"text-align: left;\">1969-11-29T11:55:00</td></tr><tr><td class = \"rowNumber\" style = \"font-weight: bold; text-align: right;\">5</td><td style = \"text-align: right;\">6</td><td style = \"text-align: left;\">earthquake</td><td style = \"text-align: left;\">deep moonquake</td><td style = \"text-align: right;\">1.5</td><td style = \"text-align: left;\">1969-11-30T03:24:00</td></tr><tr><td class = \"rowNumber\" style = \"font-weight: bold; text-align: right;\">6</td><td style = \"text-align: right;\">7</td><td style = \"text-align: left;\">earthquake</td><td style = \"text-align: left;\">deep moonquake</td><td style = \"text-align: right;\">1.5</td><td style = \"text-align: left;\">1969-11-30T06:28:00</td></tr><tr><td class = \"rowNumber\" style = \"font-weight: bold; text-align: right;\">7</td><td style = \"text-align: right;\">8</td><td style = \"text-align: left;\">earthquake</td><td style = \"text-align: left;\">deep moonquake</td><td style = \"text-align: right;\">1.0</td><td style = \"text-align: left;\">1969-11-30T19:15:00</td></tr><tr><td class = \"rowNumber\" style = \"font-weight: bold; text-align: right;\">8</td><td style = \"text-align: right;\">9</td><td style = \"text-align: left;\">earthquake</td><td style = \"text-align: left;\">deep moonquake</td><td style = \"text-align: right;\">1.0</td><td style = \"text-align: left;\">1969-12-01T01:02:00</td></tr><tr><td class = \"rowNumber\" style = \"font-weight: bold; text-align: right;\">9</td><td style = \"text-align: right;\">10</td><td style = \"text-align: left;\">earthquake</td><td style = \"text-align: left;\">deep moonquake</td><td style = \"text-align: right;\">1.0</td><td style = \"text-align: left;\">1969-12-01T06:52:00</td></tr><tr><td class = \"rowNumber\" style = \"font-weight: bold; text-align: right;\">10</td><td style = \"text-align: right;\">11</td><td style = \"text-align: left;\">earthquake</td><td style = \"text-align: left;\">deep moonquake</td><td style = \"text-align: right;\">1.5</td><td style = \"text-align: left;\">1969-12-01T10:52:00</td></tr><tr><td class = \"rowNumber\" style = \"font-weight: bold; text-align: right;\">11</td><td style = \"text-align: right;\">12</td><td style = \"text-align: left;\">earthquake</td><td style = \"text-align: left;\">deep moonquake</td><td style = \"text-align: right;\">2.0</td><td style = \"text-align: left;\">1969-12-02T00:04:00</td></tr><tr><td class = \"rowNumber\" style = \"font-weight: bold; text-align: right;\">12</td><td style = \"text-align: right;\">13</td><td style = \"text-align: left;\">earthquake</td><td style = \"text-align: left;\">deep moonquake</td><td style = \"text-align: right;\">1.0</td><td style = \"text-align: left;\">1969-12-02T02:43:00</td></tr><tr><td class = \"rowNumber\" style = \"font-weight: bold; text-align: right;\">13</td><td style = \"text-align: right;\">14</td><td style = \"text-align: left;\">earthquake</td><td style = \"text-align: left;\">deep moonquake</td><td style = \"text-align: right;\">1.0</td><td style = \"text-align: left;\">1969-12-05T17:29:00</td></tr><tr><td style = \"text-align: right;\">&vellip;</td><td style = \"text-align: right;\">&vellip;</td><td style = \"text-align: right;\">&vellip;</td><td style = \"text-align: right;\">&vellip;</td><td style = \"text-align: right;\">&vellip;</td><td style = \"text-align: right;\">&vellip;</td></tr><tr><td class = \"rowNumber\" style = \"font-weight: bold; text-align: right;\">6540</td><td style = \"text-align: right;\">6912</td><td style = \"text-align: left;\">earthquake</td><td style = \"text-align: left;\">deep moonquake</td><td style = \"text-align: right;\">1.2</td><td style = \"text-align: left;\">1977-09-18T05:52:00</td></tr><tr><td class = \"rowNumber\" style = \"font-weight: bold; text-align: right;\">6541</td><td style = \"text-align: right;\">6913</td><td style = \"text-align: left;\">earthquake</td><td style = \"text-align: left;\">deep moonquake</td><td style = \"text-align: right;\">3.53333</td><td style = \"text-align: left;\">1977-09-23T15:47:00</td></tr><tr><td class = \"rowNumber\" style = \"font-weight: bold; text-align: right;\">6542</td><td style = \"text-align: right;\">6915</td><td style = \"text-align: left;\">earthquake</td><td style = \"text-align: left;\">deep moonquake</td><td style = \"text-align: right;\">6.0</td><td style = \"text-align: left;\">1977-09-24T12:48:00</td></tr><tr><td class = \"rowNumber\" style = \"font-weight: bold; text-align: right;\">6543</td><td style = \"text-align: right;\">6916</td><td style = \"text-align: left;\">earthquake</td><td style = \"text-align: left;\">deep moonquake</td><td style = \"text-align: right;\">2.7</td><td style = \"text-align: left;\">1977-09-25T02:12:00</td></tr><tr><td class = \"rowNumber\" style = \"font-weight: bold; text-align: right;\">6544</td><td style = \"text-align: right;\">6917</td><td style = \"text-align: left;\">earthquake</td><td style = \"text-align: left;\">deep moonquake</td><td style = \"text-align: right;\">2.05</td><td style = \"text-align: left;\">1977-09-25T12:03:00</td></tr><tr><td class = \"rowNumber\" style = \"font-weight: bold; text-align: right;\">6545</td><td style = \"text-align: right;\">6918</td><td style = \"text-align: left;\">earthquake</td><td style = \"text-align: left;\">deep moonquake</td><td style = \"text-align: right;\">1.55</td><td style = \"text-align: left;\">1977-09-26T07:32:00</td></tr><tr><td class = \"rowNumber\" style = \"font-weight: bold; text-align: right;\">6546</td><td style = \"text-align: right;\">6919</td><td style = \"text-align: left;\">earthquake</td><td style = \"text-align: left;\">deep moonquake</td><td style = \"text-align: right;\">2.43333</td><td style = \"text-align: left;\">1977-09-26T09:05:00</td></tr><tr><td class = \"rowNumber\" style = \"font-weight: bold; text-align: right;\">6547</td><td style = \"text-align: right;\">6920</td><td style = \"text-align: left;\">earthquake</td><td style = \"text-align: left;\">deep moonquake</td><td style = \"text-align: right;\">1.45</td><td style = \"text-align: left;\">1977-09-26T19:24:00</td></tr><tr><td class = \"rowNumber\" style = \"font-weight: bold; text-align: right;\">6548</td><td style = \"text-align: right;\">6921</td><td style = \"text-align: left;\">earthquake</td><td style = \"text-align: left;\">deep moonquake</td><td style = \"text-align: right;\">1.63333</td><td style = \"text-align: left;\">1977-09-26T23:58:00</td></tr><tr><td class = \"rowNumber\" style = \"font-weight: bold; text-align: right;\">6549</td><td style = \"text-align: right;\">6922</td><td style = \"text-align: left;\">earthquake</td><td style = \"text-align: left;\">deep moonquake</td><td style = \"text-align: right;\">3.76667</td><td style = \"text-align: left;\">1977-09-27T10:39:00</td></tr><tr><td class = \"rowNumber\" style = \"font-weight: bold; text-align: right;\">6550</td><td style = \"text-align: right;\">6923</td><td style = \"text-align: left;\">earthquake</td><td style = \"text-align: left;\">deep moonquake</td><td style = \"text-align: right;\">1.55</td><td style = \"text-align: left;\">1977-09-28T02:23:00</td></tr><tr><td class = \"rowNumber\" style = \"font-weight: bold; text-align: right;\">6551</td><td style = \"text-align: right;\">6924</td><td style = \"text-align: left;\">earthquake</td><td style = \"text-align: left;\">deep moonquake</td><td style = \"text-align: right;\">2.3</td><td style = \"text-align: left;\">1977-09-30T09:33:00</td></tr></tbody></table></div>"
      ],
      "text/latex": [
       "\\begin{tabular}{r|ccccc}\n",
       "\t& Column1 & eventType & eventDescription & amplitude & datetime\\\\\n",
       "\t\\hline\n",
       "\t& Int64 & String15 & String31 & Float64 & DateTime\\\\\n",
       "\t\\hline\n",
       "\t1 & 1 & earthquake & deep moonquake & 3.7 & 1969-07-28T13:49:00 \\\\\n",
       "\t2 & 3 & earthquake & deep moonquake & 4.0 & 1969-08-25T00:30:00 \\\\\n",
       "\t3 & 4 & earthquake & deep moonquake & 1.0 & 1969-11-29T09:10:00 \\\\\n",
       "\t4 & 5 & earthquake & deep moonquake & 1.5 & 1969-11-29T11:55:00 \\\\\n",
       "\t5 & 6 & earthquake & deep moonquake & 1.5 & 1969-11-30T03:24:00 \\\\\n",
       "\t6 & 7 & earthquake & deep moonquake & 1.5 & 1969-11-30T06:28:00 \\\\\n",
       "\t7 & 8 & earthquake & deep moonquake & 1.0 & 1969-11-30T19:15:00 \\\\\n",
       "\t8 & 9 & earthquake & deep moonquake & 1.0 & 1969-12-01T01:02:00 \\\\\n",
       "\t9 & 10 & earthquake & deep moonquake & 1.0 & 1969-12-01T06:52:00 \\\\\n",
       "\t10 & 11 & earthquake & deep moonquake & 1.5 & 1969-12-01T10:52:00 \\\\\n",
       "\t11 & 12 & earthquake & deep moonquake & 2.0 & 1969-12-02T00:04:00 \\\\\n",
       "\t12 & 13 & earthquake & deep moonquake & 1.0 & 1969-12-02T02:43:00 \\\\\n",
       "\t13 & 14 & earthquake & deep moonquake & 1.0 & 1969-12-05T17:29:00 \\\\\n",
       "\t14 & 15 & earthquake & deep moonquake & 1.0 & 1969-12-06T20:33:00 \\\\\n",
       "\t15 & 16 & earthquake & deep moonquake & 1.0 & 1969-12-09T19:03:00 \\\\\n",
       "\t16 & 18 & earthquake & deep moonquake & 0.5 & 1969-12-11T02:01:00 \\\\\n",
       "\t17 & 19 & earthquake & deep moonquake & 0.5 & 1969-12-11T04:03:00 \\\\\n",
       "\t18 & 20 & earthquake & deep moonquake & 1.5 & 1969-12-12T01:54:00 \\\\\n",
       "\t19 & 21 & earthquake & deep moonquake & 1.0 & 1969-12-13T07:21:00 \\\\\n",
       "\t20 & 22 & earthquake & deep moonquake & 2.0 & 1969-12-13T07:40:00 \\\\\n",
       "\t21 & 23 & earthquake & deep moonquake & 0.5 & 1969-12-13T18:54:00 \\\\\n",
       "\t22 & 24 & earthquake & deep moonquake & 1.0 & 1969-12-14T22:18:00 \\\\\n",
       "\t23 & 25 & earthquake & deep moonquake & 1.5 & 1969-12-26T19:14:00 \\\\\n",
       "\t24 & 26 & earthquake & deep moonquake & 1.0 & 1969-12-27T09:04:00 \\\\\n",
       "\t$\\dots$ & $\\dots$ & $\\dots$ & $\\dots$ & $\\dots$ & $\\dots$ \\\\\n",
       "\\end{tabular}\n"
      ],
      "text/plain": [
       "\u001b[1m6551×5 DataFrame\u001b[0m\n",
       "\u001b[1m  Row \u001b[0m│\u001b[1m Column1 \u001b[0m\u001b[1m eventType  \u001b[0m\u001b[1m eventDescription \u001b[0m\u001b[1m amplitude \u001b[0m\u001b[1m datetime            \u001b[0m\n",
       "      │\u001b[90m Int64   \u001b[0m\u001b[90m String15   \u001b[0m\u001b[90m String31         \u001b[0m\u001b[90m Float64   \u001b[0m\u001b[90m DateTime            \u001b[0m\n",
       "──────┼───────────────────────────────────────────────────────────────────────\n",
       "    1 │       1  earthquake  deep moonquake      3.7      1969-07-28T13:49:00\n",
       "    2 │       3  earthquake  deep moonquake      4.0      1969-08-25T00:30:00\n",
       "    3 │       4  earthquake  deep moonquake      1.0      1969-11-29T09:10:00\n",
       "    4 │       5  earthquake  deep moonquake      1.5      1969-11-29T11:55:00\n",
       "    5 │       6  earthquake  deep moonquake      1.5      1969-11-30T03:24:00\n",
       "    6 │       7  earthquake  deep moonquake      1.5      1969-11-30T06:28:00\n",
       "    7 │       8  earthquake  deep moonquake      1.0      1969-11-30T19:15:00\n",
       "    8 │       9  earthquake  deep moonquake      1.0      1969-12-01T01:02:00\n",
       "  ⋮   │    ⋮         ⋮              ⋮              ⋮               ⋮\n",
       " 6545 │    6918  earthquake  deep moonquake      1.55     1977-09-26T07:32:00\n",
       " 6546 │    6919  earthquake  deep moonquake      2.43333  1977-09-26T09:05:00\n",
       " 6547 │    6920  earthquake  deep moonquake      1.45     1977-09-26T19:24:00\n",
       " 6548 │    6921  earthquake  deep moonquake      1.63333  1977-09-26T23:58:00\n",
       " 6549 │    6922  earthquake  deep moonquake      3.76667  1977-09-27T10:39:00\n",
       " 6550 │    6923  earthquake  deep moonquake      1.55     1977-09-28T02:23:00\n",
       " 6551 │    6924  earthquake  deep moonquake      2.3      1977-09-30T09:33:00\n",
       "\u001b[36m                                                             6536 rows omitted\u001b[0m"
      ]
     },
     "metadata": {},
     "output_type": "display_data"
    }
   ],
   "source": [
    "data_in_question = \"moonquakes_all_stations_original\"\n",
    "variable = \"amplitude\"\n",
    "\n",
    "path = \"./data/\"\n",
    "filepath = \"./data/\" * data_in_question * \".csv\"\n",
    "df = CSV.read(filepath, DataFrame);\n",
    "df = df[(df[!,variable] .< 8) .& (df[!,variable] .> 0),:];\n",
    "\n",
    "df = df[df[!,\"eventDescription\"] .== \"deep moonquake\",:]\n",
    "\n",
    "transform!(df, [\"times\"]  => ByRow((A) -> chop(string(A), tail = 6)) => \"datetime\")\n",
    "select!(df, Not([\"times\"]));\n",
    "\n",
    "dateformat = dateformat\"yyyy-mm-dd HH:MM:SS\"\n",
    "df.datetime = DateTime.(df.datetime, dateformat)\n",
    "\n",
    "df"
   ]
  },
  {
   "cell_type": "code",
   "execution_count": 3,
   "metadata": {},
   "outputs": [
    {
     "data": {
      "text/html": [
       "<div><div style = \"float: left;\"><span>5×7 DataFrame</span></div><div style = \"clear: both;\"></div></div><div class = \"data-frame\" style = \"overflow-x: scroll;\"><table class = \"data-frame\" style = \"margin-bottom: 6px;\"><thead><tr class = \"header\"><th class = \"rowNumber\" style = \"font-weight: bold; text-align: right;\">Row</th><th style = \"text-align: left;\">variable</th><th style = \"text-align: left;\">mean</th><th style = \"text-align: left;\">min</th><th style = \"text-align: left;\">median</th><th style = \"text-align: left;\">max</th><th style = \"text-align: left;\">nmissing</th><th style = \"text-align: left;\">eltype</th></tr><tr class = \"subheader headerLastRow\"><th class = \"rowNumber\" style = \"font-weight: bold; text-align: right;\"></th><th title = \"Symbol\" style = \"text-align: left;\">Symbol</th><th title = \"Union{Nothing, Float64}\" style = \"text-align: left;\">Union…</th><th title = \"Any\" style = \"text-align: left;\">Any</th><th title = \"Any\" style = \"text-align: left;\">Any</th><th title = \"Any\" style = \"text-align: left;\">Any</th><th title = \"Int64\" style = \"text-align: left;\">Int64</th><th title = \"DataType\" style = \"text-align: left;\">DataType</th></tr></thead><tbody><tr><td class = \"rowNumber\" style = \"font-weight: bold; text-align: right;\">1</td><td style = \"text-align: left;\">Column1</td><td style = \"text-align: left;\">3474.07</td><td style = \"text-align: left;\">1</td><td style = \"text-align: left;\">3520.0</td><td style = \"text-align: left;\">6924</td><td style = \"text-align: right;\">0</td><td style = \"text-align: left;\">Int64</td></tr><tr><td class = \"rowNumber\" style = \"font-weight: bold; text-align: right;\">2</td><td style = \"text-align: left;\">eventType</td><td style = \"font-style: italic; text-align: left;\"></td><td style = \"text-align: left;\">earthquake</td><td style = \"font-style: italic; text-align: left;\"></td><td style = \"text-align: left;\">earthquake</td><td style = \"text-align: right;\">0</td><td style = \"text-align: left;\">String15</td></tr><tr><td class = \"rowNumber\" style = \"font-weight: bold; text-align: right;\">3</td><td style = \"text-align: left;\">eventDescription</td><td style = \"font-style: italic; text-align: left;\"></td><td style = \"text-align: left;\">deep moonquake</td><td style = \"font-style: italic; text-align: left;\"></td><td style = \"text-align: left;\">deep moonquake</td><td style = \"text-align: right;\">0</td><td style = \"text-align: left;\">String31</td></tr><tr><td class = \"rowNumber\" style = \"font-weight: bold; text-align: right;\">4</td><td style = \"text-align: left;\">amplitude</td><td style = \"text-align: left;\">2.20592</td><td style = \"text-align: left;\">0.5</td><td style = \"text-align: left;\">2.0</td><td style = \"text-align: left;\">7.75</td><td style = \"text-align: right;\">0</td><td style = \"text-align: left;\">Float64</td></tr><tr><td class = \"rowNumber\" style = \"font-weight: bold; text-align: right;\">5</td><td style = \"text-align: left;\">datetime</td><td style = \"font-style: italic; text-align: left;\"></td><td style = \"text-align: left;\">1969-07-28T13:49:00</td><td style = \"text-align: left;\">1973-07-03T03:07:00</td><td style = \"text-align: left;\">1977-09-30T09:33:00</td><td style = \"text-align: right;\">0</td><td style = \"text-align: left;\">DateTime</td></tr></tbody></table></div>"
      ],
      "text/latex": [
       "\\begin{tabular}{r|cccccc}\n",
       "\t& variable & mean & min & median & max & \\\\\n",
       "\t\\hline\n",
       "\t& Symbol & Union… & Any & Any & Any & \\\\\n",
       "\t\\hline\n",
       "\t1 & Column1 & 3474.07 & 1 & 3520.0 & 6924 & $\\dots$ \\\\\n",
       "\t2 & eventType &  & earthquake &  & earthquake & $\\dots$ \\\\\n",
       "\t3 & eventDescription &  & deep moonquake &  & deep moonquake & $\\dots$ \\\\\n",
       "\t4 & amplitude & 2.20592 & 0.5 & 2.0 & 7.75 & $\\dots$ \\\\\n",
       "\t5 & datetime &  & 1969-07-28T13:49:00 & 1973-07-03T03:07:00 & 1977-09-30T09:33:00 & $\\dots$ \\\\\n",
       "\\end{tabular}\n"
      ],
      "text/plain": [
       "\u001b[1m5×7 DataFrame\u001b[0m\n",
       "\u001b[1m Row \u001b[0m│\u001b[1m variable         \u001b[0m\u001b[1m mean    \u001b[0m\u001b[1m min                 \u001b[0m\u001b[1m median              \u001b[0m\u001b[1m ma\u001b[0m ⋯\n",
       "     │\u001b[90m Symbol           \u001b[0m\u001b[90m Union…  \u001b[0m\u001b[90m Any                 \u001b[0m\u001b[90m Any                 \u001b[0m\u001b[90m An\u001b[0m ⋯\n",
       "─────┼──────────────────────────────────────────────────────────────────────────\n",
       "   1 │ Column1           3474.07  1                    3520.0               69 ⋯\n",
       "   2 │ eventType        \u001b[90m         \u001b[0m earthquake          \u001b[90m                     \u001b[0m ea\n",
       "   3 │ eventDescription \u001b[90m         \u001b[0m deep moonquake      \u001b[90m                     \u001b[0m de\n",
       "   4 │ amplitude         2.20592  0.5                  2.0                  7.\n",
       "   5 │ datetime         \u001b[90m         \u001b[0m 1969-07-28T13:49:00  1973-07-03T03:07:00  19 ⋯\n",
       "\u001b[36m                                                               3 columns omitted\u001b[0m"
      ]
     },
     "metadata": {},
     "output_type": "display_data"
    }
   ],
   "source": [
    "describe(df)"
   ]
  },
  {
   "cell_type": "code",
   "execution_count": null,
   "metadata": {},
   "outputs": [],
   "source": []
  },
  {
   "cell_type": "code",
   "execution_count": 12,
   "metadata": {},
   "outputs": [
    {
     "data": {
      "text/plain": [
       "\"./data/moonquakes_all_stations.csv\""
      ]
     },
     "metadata": {},
     "output_type": "display_data"
    }
   ],
   "source": [
    "CSV.write(\"./data/moonquakes_all_stations.csv\", df, delim=\",\")"
   ]
  },
  {
   "cell_type": "code",
   "execution_count": null,
   "metadata": {},
   "outputs": [],
   "source": []
  },
  {
   "cell_type": "code",
   "execution_count": null,
   "metadata": {},
   "outputs": [],
   "source": []
  },
  {
   "cell_type": "code",
   "execution_count": null,
   "metadata": {},
   "outputs": [],
   "source": []
  }
 ],
 "metadata": {
  "kernelspec": {
   "display_name": "Julia 1.9.4",
   "language": "julia",
   "name": "julia-1.9"
  },
  "language_info": {
   "file_extension": ".jl",
   "mimetype": "application/julia",
   "name": "julia",
   "version": "1.9.4"
  }
 },
 "nbformat": 4,
 "nbformat_minor": 2
}
