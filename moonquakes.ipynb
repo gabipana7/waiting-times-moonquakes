{
 "cells": [
  {
   "cell_type": "code",
   "execution_count": 76,
   "metadata": {},
   "outputs": [
    {
     "data": {
      "text/plain": [
       "PyObject <module 'scipy.optimize' from '/home/anicolin/.local/lib/python3.10/site-packages/scipy/optimize/__init__.py'>"
      ]
     },
     "metadata": {},
     "output_type": "display_data"
    }
   ],
   "source": [
    "using CSV, DataFrames, Dates\n",
    "\n",
    "using PyCall\n",
    "using CairoMakie\n",
    "\n",
    "@pyimport powerlaw as powlaw\n",
    "so = pyimport(\"scipy.optimize\")"
   ]
  },
  {
   "cell_type": "code",
   "execution_count": 81,
   "metadata": {},
   "outputs": [
    {
     "data": {
      "text/plain": [
       "\"./results/moonquakes_all_stations\""
      ]
     },
     "metadata": {},
     "output_type": "display_data"
    }
   ],
   "source": [
    "data_in_question = \"moonquakes_all_stations\"\n",
    "variable = \"amplitude\"\n",
    "\n",
    "path = \"./data/\"\n",
    "filepath = \"./data/\" * data_in_question * \".csv\"\n",
    "df = CSV.read(filepath, DataFrame);\n",
    "\n",
    "mkpath(\"./results/$(data_in_question)\")"
   ]
  },
  {
   "cell_type": "code",
   "execution_count": 82,
   "metadata": {},
   "outputs": [],
   "source": []
  },
  {
   "cell_type": "code",
   "execution_count": 83,
   "metadata": {},
   "outputs": [
    {
     "data": {
      "text/plain": [
       "waiting_times (generic function with 1 method)"
      ]
     },
     "metadata": {},
     "output_type": "display_data"
    }
   ],
   "source": [
    "function waiting_times(df, delta, datetime, variable)\n",
    "    wtid = []\n",
    "    for (i,k) in enumerate(df[!,variable])\n",
    "        first_event = df[!,datetime][i]\n",
    "        for (j,x) in enumerate(df[i+1:end, variable])\n",
    "            if x >= (k+delta)\n",
    "                second_event = df[!,datetime][i+j]\n",
    "                push!(wtid, trunc(Int, Dates.value(second_event - first_event) / 150000) )\n",
    "                break\n",
    "            end\n",
    "        end\n",
    "    end\n",
    "    return wtid\n",
    "end"
   ]
  },
  {
   "cell_type": "code",
   "execution_count": 84,
   "metadata": {},
   "outputs": [],
   "source": [
    "deltas = 0.5:0.5:5\n",
    "datetime = \"datetime\"\n",
    "for delta in deltas\n",
    "    wt = waiting_times(df, delta, datetime, variable)\n",
    "    wt_dataframe = DataFrame([wt], [\"wt\"])\n",
    "    CSV.write(\"./results/$(data_in_question)/wt_$(data_in_question)_delta_$(delta).csv\", wt_dataframe, delim=\",\")\n",
    "end"
   ]
  },
  {
   "cell_type": "code",
   "execution_count": null,
   "metadata": {},
   "outputs": [],
   "source": []
  },
  {
   "cell_type": "code",
   "execution_count": 91,
   "metadata": {},
   "outputs": [],
   "source": [
    "wt_alpha = []\n",
    "wt_sigma = []\n",
    "wt_xmin = []\n",
    "wt_KS = []\n",
    "\n",
    "\n",
    "\n",
    "deltas = collect(0.1:0.1:1.5)\n",
    "for delta in deltas\n",
    "\n",
    "    wt_df = CSV.read(\"./results/$(data_in_question)/wt_$(data_in_question)_delta_$(delta).csv\", DataFrame)\n",
    "    wt = wt_df[!,:wt]\n",
    "\n",
    "    mkpath(\"./results/$(data_in_question)/\")\n",
    "\n",
    "\n",
    "    # fit_tsallis = pyeval(\"\"\"lambda fit: lambda a, b, c, d: fit(a, b, c, d)\"\"\")\n",
    "    # @. tsallis_ccdf(x, α, λ, c) = c*((1+x/(λ))^(-α))\n",
    "    # popt_tsallis, pcov_tsallis = so.curve_fit(fit_tsallis((x, α, λ, c)->tsallis_ccdf(x, α, λ, c)), x_ccdf_original_data, y_ccdf_original_data, bounds=(0, Inf), maxfev=3000)\n",
    "    # println(\"alpha= \", popt_tsallis[1],\"\\nlambda= \", popt_tsallis[2], \"\\nc= \", popt_tsallis[3])\n",
    "\n",
    "    # alpha = round(popt_tsallis[1], digits=4)\n",
    "    # lambda = round(popt_tsallis[2], digits=4)\n",
    "    # c = round(popt_tsallis[3], digits=4)\n",
    "\n",
    "    # Powerlaw fit\n",
    "    fit = powlaw.Fit(wt);\n",
    "    alpha = fit.alpha\n",
    "    xmin = fit.xmin\n",
    "    sigma = fit.sigma\n",
    "    KS = fit.power_law.KS(data=wt)\n",
    "\n",
    "    push!(wt_alpha, alpha )\n",
    "    push!(wt_sigma, sigma )\n",
    "    push!(wt_xmin, xmin )\n",
    "    push!(wt_KS, KS )\n",
    "\n",
    "    x_ccdf, y_ccdf = fit.ccdf()\n",
    "\n",
    "    # The fit (from theoretical power_law)\n",
    "    fit_power_law = fit.power_law.plot_ccdf()[:lines][1]\n",
    "    x_powlaw, y_powlaw = fit_power_law[:get_xdata](), fit_power_law[:get_ydata]()\n",
    "\n",
    "    # Round up the data\n",
    "    alpha = round(alpha, digits=2)\n",
    "    sigma = round(sigma, digits=2)\n",
    "    xmin = round(xmin, digits=4)\n",
    "    KS = round(KS, digits=3)\n",
    "\n",
    "\n",
    "    set_theme!(Theme(fonts=(; regular=\"CMU Serif\")))\n",
    "\n",
    "    markers=[:utriangle, :circle]\n",
    "    colors=[:lightblue, :lightgreen]\n",
    "    line_colors=[:midnightblue, :green]\n",
    "    i=1\n",
    "\n",
    "    #############################################################################################################################################################\n",
    "    # THE PLOTS \n",
    "    fig = Figure(resolution = (700, 600), font= \"CMU Serif\") \n",
    "    ax1 = Axis(fig[1,1], xlabel = L\"hours\", ylabel = L\"P\", xscale=log10, yscale=log10, ylabelsize = 28,\n",
    "        xlabelsize = 28, xgridstyle = :dash, ygridstyle = :dash, xtickalign = 1,\n",
    "        xticksize = 5, ytickalign = 1, yticksize = 5 , xlabelpadding = 10, ylabelpadding = 10, xticklabelsize=22, yticklabelsize=22)\n",
    "        \n",
    "    # # CCDF of truncated data (fitted), the plot, (re-normed)\n",
    "    ax2 = Axis(fig, bbox = BBox(150,400,116,330), xscale=log10, yscale=log10, xgridvisible = false, ygridvisible = false, xtickalign = 1,\n",
    "        xticksize = 4, ytickalign = 1, yticksize = 4, xticklabelsize=16, yticklabelsize=16, backgroundcolor=:white)\n",
    "\n",
    "\n",
    "    ########################################### ALL\n",
    "    # CCDF of all data scattered \n",
    "    x_ccdf_original_data, y_ccdf_original_data = powlaw.ccdf(wt)\n",
    "\n",
    "\n",
    "    sc1 = scatter!(ax1, x_ccdf_original_data, y_ccdf_original_data,\n",
    "        color=(colors[1], 0.75), strokewidth=0.05, strokecolor=(line_colors[i], 0.8), marker=markers[i], markersize=12)\n",
    "\n",
    "    # Fit through truncated data\n",
    "    # Must shift the y values from the theoretical powerlaw by the values of y of original data, but cut to the length of truncated data\n",
    "    ln1 = lines!(ax1, x_powlaw, y_ccdf_original_data[end-length(x_ccdf)] .* y_powlaw, label = L\"\\alpha=%$(alpha)\\pm %$(sigma),\\, x_{\\mathrm{min}}=%$(xmin),\\, \\mathrm{KS}=%$(KS)\",\n",
    "        color=line_colors[1], linewidth=2.5) \n",
    "\n",
    "    ########################################### TRUNCATED\n",
    "    sc2 = scatter!(ax2, x_ccdf, y_ccdf,\n",
    "    color=(colors[1], 0.75), strokewidth=0.05, strokecolor=(line_colors[i], 0.8), marker=markers[i], markersize=10)\n",
    "\n",
    "    # Fit through truncated data (re-normed)\n",
    "    ln2 = lines!(ax2, x_powlaw, y_powlaw,\n",
    "        color=line_colors[1], linewidth=2.5)\n",
    "        \n",
    "        \n",
    "    # AXIS LEGEND\n",
    "    axislegend(ax1, [sc1], \n",
    "    [L\"\\delta=%$(delta)\"],\n",
    "    position = :rt, backgroundcolor = (:grey90, 0.25), labelsize=18, titlesize=18);\n",
    "\n",
    "    axislegend(ax1, position = :lt, backgroundcolor = (:grey90, 0.25), labelsize=18);\n",
    "\n",
    "    ylims!(ax1, 10^(-6), 10^(0.7))\n",
    "\n",
    "    save(\"./results/$(data_in_question)/wt_$(data_in_question)_delta_$(delta).png\", fig, px_per_unit=5)\n",
    "\n",
    "end\n",
    "\n",
    "# results = DataFrame([deltas, wt_alpha, wt_sigma, wt_xmin, wt_KS], [\"delta\", \"alpha\", \"sigma\", \"xmin\", \"KS\"])\n",
    "CSV.write(\"./results/$(data_in_question)/$(data_in_question).csv\", results, delim=\",\", header=true);"
   ]
  },
  {
   "cell_type": "code",
   "execution_count": null,
   "metadata": {},
   "outputs": [],
   "source": []
  },
  {
   "cell_type": "code",
   "execution_count": null,
   "metadata": {},
   "outputs": [],
   "source": [
    "results = CSV.read(\"./results_$(data_in_question).csv\", DataFrame)\n",
    "\n",
    "set_theme!(Theme(fonts=(; regular=\"CMU Serif\")))\n",
    "cmap = :thermometer\n",
    "fig = Figure(resolution = (1000, 400), font= \"CMU Serif\") \n",
    "xlabels = [L\"\\delta\\,\\text{[km/h]}\",L\"\\delta\\,\\text{[km/h]}\", \"\"]\n",
    "ylabels = [ L\"\\alpha\", L\"x_{min}\", \"\"]\n",
    "ax = [Axis(fig[1, i], xlabel = xlabels[i], ylabel = ylabels[i], ylabelsize = 26,\n",
    "    xlabelsize = 22, xgridstyle = :dash, ygridstyle = :dash, xtickalign = 1,\n",
    "    xticksize = 5, ytickalign = 1, yticksize = 5 , xlabelpadding = 10, ylabelpadding = 10) for i in 1:2]\n",
    "scatter!(ax[1],results.delta, results.alpha; color = results.KS, colormap = cmap,\n",
    "    markersize = 13, marker = :circle, strokewidth = 0)\n",
    "err = errorbars!(ax[1], results.delta, results.alpha, results.sigma; color = results.KS, colormap = cmap, \n",
    "whiskerwidth = 4)\n",
    "xmin_scat = scatter!(ax[2],results.delta, results.xmin; color = results.KS, colormap = cmap,\n",
    "    markersize = 13, marker = :circle, strokewidth = 0)\n",
    "cbar = Colorbar(fig[1,3], xmin_scat, vertical = true, label=\"KS\", flipaxis=false)\n",
    "# Label(fig[1, 1, Top()], variable, fontsize=16,\n",
    "#     padding=(0, 0, 15, 0))\n",
    "save(\"./results_$(data_in_question)_par_dep.png\", fig, px_per_unit=5)\n",
    "\n",
    "fig"
   ]
  }
 ],
 "metadata": {
  "kernelspec": {
   "display_name": "Julia 1.9.4",
   "language": "julia",
   "name": "julia-1.9"
  },
  "language_info": {
   "file_extension": ".jl",
   "mimetype": "application/julia",
   "name": "julia",
   "version": "1.9.4"
  }
 },
 "nbformat": 4,
 "nbformat_minor": 2
}
