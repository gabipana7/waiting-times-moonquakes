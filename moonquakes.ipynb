{
 "cells": [
  {
   "cell_type": "code",
   "execution_count": 49,
   "metadata": {},
   "outputs": [],
   "source": [
    "using CSV, DataFrames, Dates"
   ]
  },
  {
   "cell_type": "code",
   "execution_count": 50,
   "metadata": {},
   "outputs": [],
   "source": [
    "data_in_question = \"moonquakes_all_stations\"\n",
    "variable = \"amplitude\"\n",
    "\n",
    "path = \"./\"\n",
    "filepath = data_in_question * \".csv\"\n",
    "df = CSV.read(filepath, DataFrame);\n",
    "df = df[(df[!,variable] .< 8) .& (df[!,variable] .> 0),:];"
   ]
  },
  {
   "cell_type": "code",
   "execution_count": 51,
   "metadata": {},
   "outputs": [
    {
     "data": {
      "text/plain": [
       "perturbation (generic function with 1 method)"
      ]
     },
     "metadata": {},
     "output_type": "display_data"
    }
   ],
   "source": [
    "function perturbation(df, variable, percentage_perturbation)\n",
    "    df[!,variable] = Float64.(df[!,variable])\n",
    "    max_p = (maximum(df[!,variable]) - minimum(df[!,variable])) * percentage_perturbation/100\n",
    "\n",
    "    for i in eachindex(df[!,variable])\n",
    "        df[i,:][variable] = round(df[i,:][variable]+1*rand(-max_p:0.001:max_p), digits=2)\n",
    "    end\n",
    "\n",
    "    return(df)\n",
    "end"
   ]
  },
  {
   "cell_type": "code",
   "execution_count": 54,
   "metadata": {},
   "outputs": [],
   "source": [
    "mkpath(\"./data_perturbed/\")\n",
    "for percentage_perturbation in [1,3,5,7,10,15,20]\n",
    "    df_perturbed = perturbation(df, variable, percentage_perturbation)\n",
    "    CSV.write(\"./data_perturbed/moonquakes_perturbed_$(percentage_perturbation).csv\", df_perturbed, delim=\",\")\n",
    "end"
   ]
  },
  {
   "cell_type": "code",
   "execution_count": null,
   "metadata": {},
   "outputs": [],
   "source": []
  }
 ],
 "metadata": {
  "kernelspec": {
   "display_name": "Julia 1.8.5",
   "language": "julia",
   "name": "julia-1.8"
  },
  "language_info": {
   "file_extension": ".jl",
   "mimetype": "application/julia",
   "name": "julia",
   "version": "1.8.5"
  }
 },
 "nbformat": 4,
 "nbformat_minor": 2
}
